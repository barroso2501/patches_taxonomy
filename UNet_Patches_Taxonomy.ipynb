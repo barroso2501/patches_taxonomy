{
  "nbformat": 4,
  "nbformat_minor": 0,
  "metadata": {
    "colab": {
      "provenance": [],
      "machine_shape": "hm",
      "gpuType": "L4",
      "authorship_tag": "ABX9TyMYNhpPWBhyUSAuOpkKDNdF",
      "include_colab_link": true
    },
    "kernelspec": {
      "name": "python3",
      "display_name": "Python 3"
    },
    "language_info": {
      "name": "python"
    },
    "accelerator": "GPU"
  },
  "cells": [
    {
      "cell_type": "markdown",
      "metadata": {
        "id": "view-in-github",
        "colab_type": "text"
      },
      "source": [
        "<a href=\"https://colab.research.google.com/github/barroso2501/patches_taxonomy/blob/main/UNet_Patches_Taxonomy.ipynb\" target=\"_parent\"><img src=\"https://colab.research.google.com/assets/colab-badge.svg\" alt=\"Open In Colab\"/></a>"
      ]
    },
    {
      "cell_type": "code",
      "execution_count": 1,
      "metadata": {
        "id": "6LcOmB0DRNKM",
        "colab": {
          "base_uri": "https://localhost:8080/"
        },
        "outputId": "c9525219-8587-4e6d-8dde-8e80e8aa49ba"
      },
      "outputs": [
        {
          "output_type": "stream",
          "name": "stdout",
          "text": [
            "Mounted at /content/drive\n",
            "Collecting rasterio\n",
            "  Downloading rasterio-1.4.3-cp311-cp311-manylinux_2_17_x86_64.manylinux2014_x86_64.whl.metadata (9.1 kB)\n",
            "Collecting affine (from rasterio)\n",
            "  Downloading affine-2.4.0-py3-none-any.whl.metadata (4.0 kB)\n",
            "Requirement already satisfied: attrs in /usr/local/lib/python3.11/dist-packages (from rasterio) (25.3.0)\n",
            "Requirement already satisfied: certifi in /usr/local/lib/python3.11/dist-packages (from rasterio) (2025.4.26)\n",
            "Requirement already satisfied: click>=4.0 in /usr/local/lib/python3.11/dist-packages (from rasterio) (8.2.0)\n",
            "Collecting cligj>=0.5 (from rasterio)\n",
            "  Downloading cligj-0.7.2-py3-none-any.whl.metadata (5.0 kB)\n",
            "Requirement already satisfied: numpy>=1.24 in /usr/local/lib/python3.11/dist-packages (from rasterio) (2.0.2)\n",
            "Collecting click-plugins (from rasterio)\n",
            "  Downloading click_plugins-1.1.1-py2.py3-none-any.whl.metadata (6.4 kB)\n",
            "Requirement already satisfied: pyparsing in /usr/local/lib/python3.11/dist-packages (from rasterio) (3.2.3)\n",
            "Downloading rasterio-1.4.3-cp311-cp311-manylinux_2_17_x86_64.manylinux2014_x86_64.whl (22.2 MB)\n",
            "\u001b[2K   \u001b[90m━━━━━━━━━━━━━━━━━━━━━━━━━━━━━━━━━━━━━━━━\u001b[0m \u001b[32m22.2/22.2 MB\u001b[0m \u001b[31m78.5 MB/s\u001b[0m eta \u001b[36m0:00:00\u001b[0m\n",
            "\u001b[?25hDownloading cligj-0.7.2-py3-none-any.whl (7.1 kB)\n",
            "Downloading affine-2.4.0-py3-none-any.whl (15 kB)\n",
            "Downloading click_plugins-1.1.1-py2.py3-none-any.whl (7.5 kB)\n",
            "Installing collected packages: cligj, click-plugins, affine, rasterio\n",
            "Successfully installed affine-2.4.0 click-plugins-1.1.1 cligj-0.7.2 rasterio-1.4.3\n",
            "Requirement already satisfied: tqdm in /usr/local/lib/python3.11/dist-packages (4.67.1)\n"
          ]
        }
      ],
      "source": [
        "# Montar o Google Drive\n",
        "from google.colab import drive\n",
        "drive.mount('/content/drive')\n",
        "\n",
        "!pip install rasterio\n",
        "!pip install tqdm"
      ]
    },
    {
      "cell_type": "code",
      "source": [
        "import numpy as np\n",
        "import torch\n",
        "from torch.utils.data import Dataset, DataLoader\n",
        "import matplotlib.pyplot as plt\n"
      ],
      "metadata": {
        "id": "HiNx-F9YgKVG"
      },
      "execution_count": 2,
      "outputs": []
    },
    {
      "cell_type": "code",
      "source": [
        "import torch\n",
        "import torch.nn as nn\n",
        "\n",
        "class DoubleConv(nn.Module):\n",
        "    def __init__(self, in_channels, out_channels):\n",
        "        super().__init__()\n",
        "        self.block = nn.Sequential(\n",
        "            nn.Conv2d(in_channels, out_channels, 3, padding=1),\n",
        "            nn.BatchNorm2d(out_channels),\n",
        "            nn.ReLU(inplace=True),\n",
        "            nn.Conv2d(out_channels, out_channels, 3, padding=1),\n",
        "            nn.BatchNorm2d(out_channels),\n",
        "            nn.ReLU(inplace=True),\n",
        "        )\n",
        "    def forward(self, x):\n",
        "        return self.block(x)\n",
        "\n",
        "class UNet3Saidas(nn.Module):\n",
        "    def __init__(self, in_channels=2):\n",
        "        super().__init__()\n",
        "        self.enc1 = DoubleConv(in_channels, 64)\n",
        "        self.enc2 = DoubleConv(64, 128)\n",
        "        self.enc3 = DoubleConv(128, 256)\n",
        "        self.enc4 = DoubleConv(256, 512)\n",
        "        self.pool = nn.MaxPool2d(2)\n",
        "        self.bottleneck = DoubleConv(512, 1024)\n",
        "\n",
        "        self.upconv4 = nn.ConvTranspose2d(1024, 512, 2, 2)\n",
        "        self.dec4 = DoubleConv(1024, 512)\n",
        "\n",
        "        self.upconv3 = nn.ConvTranspose2d(512, 256, 2, 2)\n",
        "        self.dec3 = DoubleConv(512, 256)\n",
        "\n",
        "        self.upconv2 = nn.ConvTranspose2d(256, 128, 2, 2)\n",
        "        self.dec2 = DoubleConv(256, 128)\n",
        "\n",
        "        self.upconv1 = nn.ConvTranspose2d(128, 64, 2, 2)\n",
        "        self.dec1 = DoubleConv(128, 64)\n",
        "\n",
        "        self.out_estavel = nn.Conv2d(64, 2, 1)\n",
        "        self.out_perda = nn.Conv2d(64, 4, 1)\n",
        "        self.out_ganho = nn.Conv2d(64, 4, 1)\n",
        "\n",
        "    def forward(self, x):\n",
        "        enc1 = self.enc1(x)\n",
        "        enc2 = self.enc2(self.pool(enc1))\n",
        "        enc3 = self.enc3(self.pool(enc2))\n",
        "        enc4 = self.enc4(self.pool(enc3))\n",
        "\n",
        "        bottleneck = self.bottleneck(self.pool(enc4))\n",
        "\n",
        "        dec4 = self.upconv4(bottleneck)\n",
        "        dec4 = self.dec4(torch.cat([dec4, enc4], dim=1))\n",
        "\n",
        "        dec3 = self.upconv3(dec4)\n",
        "        dec3 = self.dec3(torch.cat([dec3, enc3], dim=1))\n",
        "\n",
        "        dec2 = self.upconv2(dec3)\n",
        "        dec2 = self.dec2(torch.cat([dec2, enc2], dim=1))\n",
        "\n",
        "        dec1 = self.upconv1(dec2)\n",
        "        dec1 = self.dec1(torch.cat([dec1, enc1], dim=1))\n",
        "\n",
        "        return {\n",
        "            'estavel': self.out_estavel(dec1),\n",
        "            'perda': self.out_perda(dec1),\n",
        "            'ganho': self.out_ganho(dec1)\n",
        "        }"
      ],
      "metadata": {
        "id": "8t3piA19Xdve"
      },
      "execution_count": 3,
      "outputs": []
    },
    {
      "cell_type": "code",
      "source": [
        "device = torch.device('cuda' if torch.cuda.is_available() else 'cpu')"
      ],
      "metadata": {
        "id": "G0sQin5wYVBV"
      },
      "execution_count": 4,
      "outputs": []
    },
    {
      "cell_type": "markdown",
      "source": [
        "Iniciando ambiente"
      ],
      "metadata": {
        "id": "7RrbtswkRUJ9"
      }
    },
    {
      "cell_type": "code",
      "source": [
        "# Certifique-se de ter definido a UNet3Saidas antes\n",
        "model = UNet3Saidas(in_channels=2).to(device)\n",
        "model.load_state_dict(torch.load('/content/drive/MyDrive/DADOS/unet_treinado_ep7.pth'))\n",
        "model.eval()"
      ],
      "metadata": {
        "colab": {
          "base_uri": "https://localhost:8080/"
        },
        "id": "grXgFvzDV4PG",
        "outputId": "2130a9fe-a710-47cf-ba81-ab4d12b12caf"
      },
      "execution_count": 5,
      "outputs": [
        {
          "output_type": "execute_result",
          "data": {
            "text/plain": [
              "UNet3Saidas(\n",
              "  (enc1): DoubleConv(\n",
              "    (block): Sequential(\n",
              "      (0): Conv2d(2, 64, kernel_size=(3, 3), stride=(1, 1), padding=(1, 1))\n",
              "      (1): BatchNorm2d(64, eps=1e-05, momentum=0.1, affine=True, track_running_stats=True)\n",
              "      (2): ReLU(inplace=True)\n",
              "      (3): Conv2d(64, 64, kernel_size=(3, 3), stride=(1, 1), padding=(1, 1))\n",
              "      (4): BatchNorm2d(64, eps=1e-05, momentum=0.1, affine=True, track_running_stats=True)\n",
              "      (5): ReLU(inplace=True)\n",
              "    )\n",
              "  )\n",
              "  (enc2): DoubleConv(\n",
              "    (block): Sequential(\n",
              "      (0): Conv2d(64, 128, kernel_size=(3, 3), stride=(1, 1), padding=(1, 1))\n",
              "      (1): BatchNorm2d(128, eps=1e-05, momentum=0.1, affine=True, track_running_stats=True)\n",
              "      (2): ReLU(inplace=True)\n",
              "      (3): Conv2d(128, 128, kernel_size=(3, 3), stride=(1, 1), padding=(1, 1))\n",
              "      (4): BatchNorm2d(128, eps=1e-05, momentum=0.1, affine=True, track_running_stats=True)\n",
              "      (5): ReLU(inplace=True)\n",
              "    )\n",
              "  )\n",
              "  (enc3): DoubleConv(\n",
              "    (block): Sequential(\n",
              "      (0): Conv2d(128, 256, kernel_size=(3, 3), stride=(1, 1), padding=(1, 1))\n",
              "      (1): BatchNorm2d(256, eps=1e-05, momentum=0.1, affine=True, track_running_stats=True)\n",
              "      (2): ReLU(inplace=True)\n",
              "      (3): Conv2d(256, 256, kernel_size=(3, 3), stride=(1, 1), padding=(1, 1))\n",
              "      (4): BatchNorm2d(256, eps=1e-05, momentum=0.1, affine=True, track_running_stats=True)\n",
              "      (5): ReLU(inplace=True)\n",
              "    )\n",
              "  )\n",
              "  (enc4): DoubleConv(\n",
              "    (block): Sequential(\n",
              "      (0): Conv2d(256, 512, kernel_size=(3, 3), stride=(1, 1), padding=(1, 1))\n",
              "      (1): BatchNorm2d(512, eps=1e-05, momentum=0.1, affine=True, track_running_stats=True)\n",
              "      (2): ReLU(inplace=True)\n",
              "      (3): Conv2d(512, 512, kernel_size=(3, 3), stride=(1, 1), padding=(1, 1))\n",
              "      (4): BatchNorm2d(512, eps=1e-05, momentum=0.1, affine=True, track_running_stats=True)\n",
              "      (5): ReLU(inplace=True)\n",
              "    )\n",
              "  )\n",
              "  (pool): MaxPool2d(kernel_size=2, stride=2, padding=0, dilation=1, ceil_mode=False)\n",
              "  (bottleneck): DoubleConv(\n",
              "    (block): Sequential(\n",
              "      (0): Conv2d(512, 1024, kernel_size=(3, 3), stride=(1, 1), padding=(1, 1))\n",
              "      (1): BatchNorm2d(1024, eps=1e-05, momentum=0.1, affine=True, track_running_stats=True)\n",
              "      (2): ReLU(inplace=True)\n",
              "      (3): Conv2d(1024, 1024, kernel_size=(3, 3), stride=(1, 1), padding=(1, 1))\n",
              "      (4): BatchNorm2d(1024, eps=1e-05, momentum=0.1, affine=True, track_running_stats=True)\n",
              "      (5): ReLU(inplace=True)\n",
              "    )\n",
              "  )\n",
              "  (upconv4): ConvTranspose2d(1024, 512, kernel_size=(2, 2), stride=(2, 2))\n",
              "  (dec4): DoubleConv(\n",
              "    (block): Sequential(\n",
              "      (0): Conv2d(1024, 512, kernel_size=(3, 3), stride=(1, 1), padding=(1, 1))\n",
              "      (1): BatchNorm2d(512, eps=1e-05, momentum=0.1, affine=True, track_running_stats=True)\n",
              "      (2): ReLU(inplace=True)\n",
              "      (3): Conv2d(512, 512, kernel_size=(3, 3), stride=(1, 1), padding=(1, 1))\n",
              "      (4): BatchNorm2d(512, eps=1e-05, momentum=0.1, affine=True, track_running_stats=True)\n",
              "      (5): ReLU(inplace=True)\n",
              "    )\n",
              "  )\n",
              "  (upconv3): ConvTranspose2d(512, 256, kernel_size=(2, 2), stride=(2, 2))\n",
              "  (dec3): DoubleConv(\n",
              "    (block): Sequential(\n",
              "      (0): Conv2d(512, 256, kernel_size=(3, 3), stride=(1, 1), padding=(1, 1))\n",
              "      (1): BatchNorm2d(256, eps=1e-05, momentum=0.1, affine=True, track_running_stats=True)\n",
              "      (2): ReLU(inplace=True)\n",
              "      (3): Conv2d(256, 256, kernel_size=(3, 3), stride=(1, 1), padding=(1, 1))\n",
              "      (4): BatchNorm2d(256, eps=1e-05, momentum=0.1, affine=True, track_running_stats=True)\n",
              "      (5): ReLU(inplace=True)\n",
              "    )\n",
              "  )\n",
              "  (upconv2): ConvTranspose2d(256, 128, kernel_size=(2, 2), stride=(2, 2))\n",
              "  (dec2): DoubleConv(\n",
              "    (block): Sequential(\n",
              "      (0): Conv2d(256, 128, kernel_size=(3, 3), stride=(1, 1), padding=(1, 1))\n",
              "      (1): BatchNorm2d(128, eps=1e-05, momentum=0.1, affine=True, track_running_stats=True)\n",
              "      (2): ReLU(inplace=True)\n",
              "      (3): Conv2d(128, 128, kernel_size=(3, 3), stride=(1, 1), padding=(1, 1))\n",
              "      (4): BatchNorm2d(128, eps=1e-05, momentum=0.1, affine=True, track_running_stats=True)\n",
              "      (5): ReLU(inplace=True)\n",
              "    )\n",
              "  )\n",
              "  (upconv1): ConvTranspose2d(128, 64, kernel_size=(2, 2), stride=(2, 2))\n",
              "  (dec1): DoubleConv(\n",
              "    (block): Sequential(\n",
              "      (0): Conv2d(128, 64, kernel_size=(3, 3), stride=(1, 1), padding=(1, 1))\n",
              "      (1): BatchNorm2d(64, eps=1e-05, momentum=0.1, affine=True, track_running_stats=True)\n",
              "      (2): ReLU(inplace=True)\n",
              "      (3): Conv2d(64, 64, kernel_size=(3, 3), stride=(1, 1), padding=(1, 1))\n",
              "      (4): BatchNorm2d(64, eps=1e-05, momentum=0.1, affine=True, track_running_stats=True)\n",
              "      (5): ReLU(inplace=True)\n",
              "    )\n",
              "  )\n",
              "  (out_estavel): Conv2d(64, 2, kernel_size=(1, 1), stride=(1, 1))\n",
              "  (out_perda): Conv2d(64, 4, kernel_size=(1, 1), stride=(1, 1))\n",
              "  (out_ganho): Conv2d(64, 4, kernel_size=(1, 1), stride=(1, 1))\n",
              ")"
            ]
          },
          "metadata": {},
          "execution_count": 5
        }
      ]
    },
    {
      "cell_type": "code",
      "source": [
        "device = torch.device('cuda' if torch.cuda.is_available() else 'cpu')\n",
        "\n",
        "model = UNet3Saidas(in_channels=2).to(device)\n",
        "model.load_state_dict(torch.load('/content/drive/MyDrive/DADOS/unet_treinado_ep7.pth'))\n",
        "model.eval()\n"
      ],
      "metadata": {
        "colab": {
          "base_uri": "https://localhost:8080/"
        },
        "id": "sNUctDL_g9ke",
        "outputId": "f1fd38a7-e70c-407e-a820-91e5aec9bdeb"
      },
      "execution_count": 6,
      "outputs": [
        {
          "output_type": "execute_result",
          "data": {
            "text/plain": [
              "UNet3Saidas(\n",
              "  (enc1): DoubleConv(\n",
              "    (block): Sequential(\n",
              "      (0): Conv2d(2, 64, kernel_size=(3, 3), stride=(1, 1), padding=(1, 1))\n",
              "      (1): BatchNorm2d(64, eps=1e-05, momentum=0.1, affine=True, track_running_stats=True)\n",
              "      (2): ReLU(inplace=True)\n",
              "      (3): Conv2d(64, 64, kernel_size=(3, 3), stride=(1, 1), padding=(1, 1))\n",
              "      (4): BatchNorm2d(64, eps=1e-05, momentum=0.1, affine=True, track_running_stats=True)\n",
              "      (5): ReLU(inplace=True)\n",
              "    )\n",
              "  )\n",
              "  (enc2): DoubleConv(\n",
              "    (block): Sequential(\n",
              "      (0): Conv2d(64, 128, kernel_size=(3, 3), stride=(1, 1), padding=(1, 1))\n",
              "      (1): BatchNorm2d(128, eps=1e-05, momentum=0.1, affine=True, track_running_stats=True)\n",
              "      (2): ReLU(inplace=True)\n",
              "      (3): Conv2d(128, 128, kernel_size=(3, 3), stride=(1, 1), padding=(1, 1))\n",
              "      (4): BatchNorm2d(128, eps=1e-05, momentum=0.1, affine=True, track_running_stats=True)\n",
              "      (5): ReLU(inplace=True)\n",
              "    )\n",
              "  )\n",
              "  (enc3): DoubleConv(\n",
              "    (block): Sequential(\n",
              "      (0): Conv2d(128, 256, kernel_size=(3, 3), stride=(1, 1), padding=(1, 1))\n",
              "      (1): BatchNorm2d(256, eps=1e-05, momentum=0.1, affine=True, track_running_stats=True)\n",
              "      (2): ReLU(inplace=True)\n",
              "      (3): Conv2d(256, 256, kernel_size=(3, 3), stride=(1, 1), padding=(1, 1))\n",
              "      (4): BatchNorm2d(256, eps=1e-05, momentum=0.1, affine=True, track_running_stats=True)\n",
              "      (5): ReLU(inplace=True)\n",
              "    )\n",
              "  )\n",
              "  (enc4): DoubleConv(\n",
              "    (block): Sequential(\n",
              "      (0): Conv2d(256, 512, kernel_size=(3, 3), stride=(1, 1), padding=(1, 1))\n",
              "      (1): BatchNorm2d(512, eps=1e-05, momentum=0.1, affine=True, track_running_stats=True)\n",
              "      (2): ReLU(inplace=True)\n",
              "      (3): Conv2d(512, 512, kernel_size=(3, 3), stride=(1, 1), padding=(1, 1))\n",
              "      (4): BatchNorm2d(512, eps=1e-05, momentum=0.1, affine=True, track_running_stats=True)\n",
              "      (5): ReLU(inplace=True)\n",
              "    )\n",
              "  )\n",
              "  (pool): MaxPool2d(kernel_size=2, stride=2, padding=0, dilation=1, ceil_mode=False)\n",
              "  (bottleneck): DoubleConv(\n",
              "    (block): Sequential(\n",
              "      (0): Conv2d(512, 1024, kernel_size=(3, 3), stride=(1, 1), padding=(1, 1))\n",
              "      (1): BatchNorm2d(1024, eps=1e-05, momentum=0.1, affine=True, track_running_stats=True)\n",
              "      (2): ReLU(inplace=True)\n",
              "      (3): Conv2d(1024, 1024, kernel_size=(3, 3), stride=(1, 1), padding=(1, 1))\n",
              "      (4): BatchNorm2d(1024, eps=1e-05, momentum=0.1, affine=True, track_running_stats=True)\n",
              "      (5): ReLU(inplace=True)\n",
              "    )\n",
              "  )\n",
              "  (upconv4): ConvTranspose2d(1024, 512, kernel_size=(2, 2), stride=(2, 2))\n",
              "  (dec4): DoubleConv(\n",
              "    (block): Sequential(\n",
              "      (0): Conv2d(1024, 512, kernel_size=(3, 3), stride=(1, 1), padding=(1, 1))\n",
              "      (1): BatchNorm2d(512, eps=1e-05, momentum=0.1, affine=True, track_running_stats=True)\n",
              "      (2): ReLU(inplace=True)\n",
              "      (3): Conv2d(512, 512, kernel_size=(3, 3), stride=(1, 1), padding=(1, 1))\n",
              "      (4): BatchNorm2d(512, eps=1e-05, momentum=0.1, affine=True, track_running_stats=True)\n",
              "      (5): ReLU(inplace=True)\n",
              "    )\n",
              "  )\n",
              "  (upconv3): ConvTranspose2d(512, 256, kernel_size=(2, 2), stride=(2, 2))\n",
              "  (dec3): DoubleConv(\n",
              "    (block): Sequential(\n",
              "      (0): Conv2d(512, 256, kernel_size=(3, 3), stride=(1, 1), padding=(1, 1))\n",
              "      (1): BatchNorm2d(256, eps=1e-05, momentum=0.1, affine=True, track_running_stats=True)\n",
              "      (2): ReLU(inplace=True)\n",
              "      (3): Conv2d(256, 256, kernel_size=(3, 3), stride=(1, 1), padding=(1, 1))\n",
              "      (4): BatchNorm2d(256, eps=1e-05, momentum=0.1, affine=True, track_running_stats=True)\n",
              "      (5): ReLU(inplace=True)\n",
              "    )\n",
              "  )\n",
              "  (upconv2): ConvTranspose2d(256, 128, kernel_size=(2, 2), stride=(2, 2))\n",
              "  (dec2): DoubleConv(\n",
              "    (block): Sequential(\n",
              "      (0): Conv2d(256, 128, kernel_size=(3, 3), stride=(1, 1), padding=(1, 1))\n",
              "      (1): BatchNorm2d(128, eps=1e-05, momentum=0.1, affine=True, track_running_stats=True)\n",
              "      (2): ReLU(inplace=True)\n",
              "      (3): Conv2d(128, 128, kernel_size=(3, 3), stride=(1, 1), padding=(1, 1))\n",
              "      (4): BatchNorm2d(128, eps=1e-05, momentum=0.1, affine=True, track_running_stats=True)\n",
              "      (5): ReLU(inplace=True)\n",
              "    )\n",
              "  )\n",
              "  (upconv1): ConvTranspose2d(128, 64, kernel_size=(2, 2), stride=(2, 2))\n",
              "  (dec1): DoubleConv(\n",
              "    (block): Sequential(\n",
              "      (0): Conv2d(128, 64, kernel_size=(3, 3), stride=(1, 1), padding=(1, 1))\n",
              "      (1): BatchNorm2d(64, eps=1e-05, momentum=0.1, affine=True, track_running_stats=True)\n",
              "      (2): ReLU(inplace=True)\n",
              "      (3): Conv2d(64, 64, kernel_size=(3, 3), stride=(1, 1), padding=(1, 1))\n",
              "      (4): BatchNorm2d(64, eps=1e-05, momentum=0.1, affine=True, track_running_stats=True)\n",
              "      (5): ReLU(inplace=True)\n",
              "    )\n",
              "  )\n",
              "  (out_estavel): Conv2d(64, 2, kernel_size=(1, 1), stride=(1, 1))\n",
              "  (out_perda): Conv2d(64, 4, kernel_size=(1, 1), stride=(1, 1))\n",
              "  (out_ganho): Conv2d(64, 4, kernel_size=(1, 1), stride=(1, 1))\n",
              ")"
            ]
          },
          "metadata": {},
          "execution_count": 6
        }
      ]
    },
    {
      "cell_type": "markdown",
      "source": [
        "Carregar arquivos t1 e t2"
      ],
      "metadata": {
        "id": "QvDl2oPnRfas"
      }
    },
    {
      "cell_type": "code",
      "source": [
        "import numpy as np\n",
        "t1 = np.load('/content/drive/MyDrive/DADOS/t1_binary_areaC.npy')\n",
        "t2 = np.load('/content/drive/MyDrive/DADOS/t2_binary_areaC.npy')\n",
        "\n",
        "# Remove dimensão extra se necessário\n",
        "if t1.ndim == 3 and t1.shape[0] == 1:\n",
        "    t1 = t1[0]\n",
        "if t2.ndim == 3 and t2.shape[0] == 1:\n",
        "    t2 = t2[0]"
      ],
      "metadata": {
        "id": "f59dGptjV0d1"
      },
      "execution_count": 7,
      "outputs": []
    },
    {
      "cell_type": "code",
      "source": [
        "t1 = np.load('/content/drive/MyDrive/DADOS/t1_binary_areaA.npy')\n",
        "t2 = np.load('/content/drive/MyDrive/DADOS/t2_binary_areaA.npy')\n",
        "label = np.load('/content/drive/MyDrive/DADOS/labels_areaA.npy')\n",
        "\n",
        "# Corrigir shape se necessário\n",
        "if t1.ndim == 3: t1 = t1.squeeze(0)\n",
        "if t2.ndim == 3: t2 = t2.squeeze(0)\n",
        "if label.ndim == 3: label = label.squeeze(0)\n"
      ],
      "metadata": {
        "id": "Z5WHZQYYhEqA"
      },
      "execution_count": 11,
      "outputs": []
    },
    {
      "cell_type": "markdown",
      "source": [
        "Aplicar modelo em blocos"
      ],
      "metadata": {
        "id": "U3cheNjXRq4P"
      }
    },
    {
      "cell_type": "code",
      "source": [
        "# Mesma função que já usamos para aplicar em blocos\n",
        "predito = aplicar_modelo_em_area(t1, t2, model, device, tile_size=512, stride=512)\n",
        "\n",
        "# Salvar como .npy (opcional)\n",
        "np.save('/content/drive/MyDrive/DADOS/predict_areaC.npy', predito)"
      ],
      "metadata": {
        "colab": {
          "base_uri": "https://localhost:8080/",
          "height": 220
        },
        "id": "wwXj34xaWKXx",
        "outputId": "ddfeccdd-de88-408b-f936-9f14e7c159e4"
      },
      "execution_count": 9,
      "outputs": [
        {
          "output_type": "error",
          "ename": "NameError",
          "evalue": "name 'aplicar_modelo_em_area' is not defined",
          "traceback": [
            "\u001b[0;31m---------------------------------------------------------------------------\u001b[0m",
            "\u001b[0;31mNameError\u001b[0m                                 Traceback (most recent call last)",
            "\u001b[0;32m<ipython-input-9-0d07be780b91>\u001b[0m in \u001b[0;36m<cell line: 0>\u001b[0;34m()\u001b[0m\n\u001b[1;32m      1\u001b[0m \u001b[0;31m# Mesma função que já usamos para aplicar em blocos\u001b[0m\u001b[0;34m\u001b[0m\u001b[0;34m\u001b[0m\u001b[0m\n\u001b[0;32m----> 2\u001b[0;31m \u001b[0mpredito\u001b[0m \u001b[0;34m=\u001b[0m \u001b[0maplicar_modelo_em_area\u001b[0m\u001b[0;34m(\u001b[0m\u001b[0mt1\u001b[0m\u001b[0;34m,\u001b[0m \u001b[0mt2\u001b[0m\u001b[0;34m,\u001b[0m \u001b[0mmodel\u001b[0m\u001b[0;34m,\u001b[0m \u001b[0mdevice\u001b[0m\u001b[0;34m,\u001b[0m \u001b[0mtile_size\u001b[0m\u001b[0;34m=\u001b[0m\u001b[0;36m512\u001b[0m\u001b[0;34m,\u001b[0m \u001b[0mstride\u001b[0m\u001b[0;34m=\u001b[0m\u001b[0;36m512\u001b[0m\u001b[0;34m)\u001b[0m\u001b[0;34m\u001b[0m\u001b[0;34m\u001b[0m\u001b[0m\n\u001b[0m\u001b[1;32m      3\u001b[0m \u001b[0;34m\u001b[0m\u001b[0m\n\u001b[1;32m      4\u001b[0m \u001b[0;31m# Salvar como .npy (opcional)\u001b[0m\u001b[0;34m\u001b[0m\u001b[0;34m\u001b[0m\u001b[0m\n\u001b[1;32m      5\u001b[0m \u001b[0mnp\u001b[0m\u001b[0;34m.\u001b[0m\u001b[0msave\u001b[0m\u001b[0;34m(\u001b[0m\u001b[0;34m'/content/drive/MyDrive/DADOS/predict_areaC.npy'\u001b[0m\u001b[0;34m,\u001b[0m \u001b[0mpredito\u001b[0m\u001b[0;34m)\u001b[0m\u001b[0;34m\u001b[0m\u001b[0;34m\u001b[0m\u001b[0m\n",
            "\u001b[0;31mNameError\u001b[0m: name 'aplicar_modelo_em_area' is not defined"
          ]
        }
      ]
    },
    {
      "cell_type": "code",
      "source": [
        "label = np.load(\"/content/drive/MyDrive/DADOS/labels_areaC.npy\")"
      ],
      "metadata": {
        "id": "N9qAAI2SaSUj"
      },
      "execution_count": 10,
      "outputs": []
    },
    {
      "cell_type": "code",
      "source": [
        "# Remove a dimensão extra do label, se existir\n",
        "if label.ndim == 3 and label.shape[0] == 1:\n",
        "    label = label.squeeze(0)"
      ],
      "metadata": {
        "id": "AuyqUILubBLB"
      },
      "execution_count": null,
      "outputs": []
    },
    {
      "cell_type": "markdown",
      "source": [
        "Carregamento de dados"
      ],
      "metadata": {
        "id": "CnYfL87_SKat"
      }
    },
    {
      "cell_type": "markdown",
      "source": [
        "Verificaçao de consistencia de shape"
      ],
      "metadata": {
        "id": "iZksqjvrSVS6"
      }
    },
    {
      "cell_type": "markdown",
      "source": [
        "Função para extrair janelas de erro"
      ],
      "metadata": {
        "id": "CT9l8-FhbfF0"
      }
    },
    {
      "cell_type": "markdown",
      "source": [
        "Executar extração de janelas 128x128 e stride 64"
      ],
      "metadata": {
        "id": "-7oVA9mRbqJ3"
      }
    },
    {
      "cell_type": "markdown",
      "source": [
        "Criar Dataset e Dataloader"
      ],
      "metadata": {
        "id": "uATVul-ucFas"
      }
    },
    {
      "cell_type": "markdown",
      "source": [
        "Recaregar o modelo e ajustar o otimizador"
      ],
      "metadata": {
        "id": "a-QlZZhAcTay"
      }
    },
    {
      "cell_type": "markdown",
      "source": [
        "Rodar o multiramos"
      ],
      "metadata": {
        "id": "X_djDuHwchAF"
      }
    },
    {
      "cell_type": "markdown",
      "source": [
        "multirmos auxiliar"
      ],
      "metadata": {
        "id": "r_1xKMPLdMhZ"
      }
    },
    {
      "cell_type": "markdown",
      "source": [
        "salvando o modelo"
      ],
      "metadata": {
        "id": "1wDMr0RcgYU6"
      }
    },
    {
      "cell_type": "markdown",
      "source": [
        "cortar bloco"
      ],
      "metadata": {
        "id": "_k1LhS4ImUbj"
      }
    },
    {
      "cell_type": "code",
      "source": [
        "def cortar_blocos_com_percentual_mudanca(t1, t2, label, tile_size=512, stride=512):\n",
        "    \"\"\"\n",
        "    Corta blocos (tile_size x tile_size) de t1, t2 e label,\n",
        "    e calcula a % de mudança com base nas classes reclassificadas:\n",
        "    22–25 (perda) e 36–39 (ganho).\n",
        "    \"\"\"\n",
        "    classes_mudanca = [22, 23, 24, 25, 36, 37, 38, 39]\n",
        "    H, W = t1.shape\n",
        "    blocos_X, blocos_y, stats = [], [], []\n",
        "\n",
        "    for i in range(0, H - tile_size + 1, stride):\n",
        "        for j in range(0, W - tile_size + 1, stride):\n",
        "            bloco_t1 = t1[i:i+tile_size, j:j+tile_size]\n",
        "            bloco_t2 = t2[i:i+tile_size, j:j+tile_size]\n",
        "            bloco_label = label[i:i+tile_size, j:j+tile_size]\n",
        "\n",
        "            n_mudanca = np.isin(bloco_label, classes_mudanca).sum()\n",
        "            pct_mudanca = n_mudanca / (tile_size * tile_size)\n",
        "\n",
        "            x = np.stack([bloco_t1, bloco_t2])  # (2, H, W)\n",
        "            blocos_X.append(x)\n",
        "            blocos_y.append(bloco_label)\n",
        "            stats.append(pct_mudanca)\n",
        "\n",
        "    return np.array(blocos_X), np.array(blocos_y), np.array(stats)\n"
      ],
      "metadata": {
        "id": "tMZWlYhhjWd1"
      },
      "execution_count": 12,
      "outputs": []
    },
    {
      "cell_type": "code",
      "source": [
        "# Carrega os arquivos da área B\n",
        "t1 = np.load('/content/drive/MyDrive/DADOS/t1_binary_areaC.npy')\n",
        "t2 = np.load('/content/drive/MyDrive/DADOS/t2_binary_areaC.npy')\n",
        "label = np.load('/content/drive/MyDrive/DADOS/labels_areaC.npy')\n",
        "\n",
        "# Remove banda extra, se houver\n",
        "if t1.ndim == 3: t1 = t1.squeeze(0)\n",
        "if t2.ndim == 3: t2 = t2.squeeze(0)\n",
        "if label.ndim == 3: label = label.squeeze(0)\n",
        "\n",
        "# Gera os blocos e calcula % de mudança\n",
        "X_C, y_C, stats_C = cortar_blocos_com_percentual_mudanca(t1, t2, label)\n"
      ],
      "metadata": {
        "id": "XtHF5g-ojc4d"
      },
      "execution_count": 16,
      "outputs": []
    },
    {
      "cell_type": "code",
      "source": [
        "print(f\"Área A: {len(X_A)} blocos | Mudança média: {stats_A.mean():.4%}\")\n",
        "print(f\"Área B: {len(X_B)} blocos | Mudança média: {stats_B.mean():.4%}\")\n",
        "print(f\"Área C: {len(X_C)} blocos | Mudança média: {stats_C.mean():.4%}\")\n",
        "print(f\"Área D: {len(X_D)} blocos | Mudança média: {stats_D.mean():.4%}\")\n"
      ],
      "metadata": {
        "colab": {
          "base_uri": "https://localhost:8080/"
        },
        "id": "a-8tDc1Lj3rj",
        "outputId": "87581d26-28c7-41d0-fd13-33f0152fb8e9"
      },
      "execution_count": 17,
      "outputs": [
        {
          "output_type": "stream",
          "name": "stdout",
          "text": [
            "Área A: 15 blocos | Mudança média: 33.0071%\n",
            "Área B: 36 blocos | Mudança média: 8.1624%\n",
            "Área C: 36 blocos | Mudança média: 10.6647%\n",
            "Área D: 63 blocos | Mudança média: 8.6342%\n"
          ]
        }
      ]
    },
    {
      "cell_type": "code",
      "source": [
        "# Concatena os blocos das áreas A, B, C, D\n",
        "X_total = np.concatenate([X_A, X_B, X_C, X_D], axis=0)\n",
        "y_total = np.concatenate([y_A, y_B, y_C, y_D], axis=0)\n",
        "\n",
        "# Verificação de shapes\n",
        "print(f\"Blocos de entrada (X): {X_total.shape}\")  # Esperado: (N, 2, 512, 512)\n",
        "print(f\"Blocos de saída (y): {y_total.shape}\")    # Esperado: (N, 512, 512)\n"
      ],
      "metadata": {
        "colab": {
          "base_uri": "https://localhost:8080/"
        },
        "id": "rgbemMvqlCdd",
        "outputId": "3a3f4ecd-057d-44fd-9c88-c2f4f786b1cd"
      },
      "execution_count": 18,
      "outputs": [
        {
          "output_type": "stream",
          "name": "stdout",
          "text": [
            "Blocos de entrada (X): (150, 2, 512, 512)\n",
            "Blocos de saída (y): (150, 512, 512)\n"
          ]
        }
      ]
    },
    {
      "cell_type": "code",
      "source": [
        "# Caminho de salvamento\n",
        "np.savez_compressed('/content/drive/MyDrive/DADOS/blocos_treinamento_unificado_A_B_C_D.npz',\n",
        "                    X=X_total, y=y_total)\n",
        "print(\"✅ Arquivo salvo com sucesso!\")\n"
      ],
      "metadata": {
        "colab": {
          "base_uri": "https://localhost:8080/"
        },
        "id": "6NXRKsOtmVv8",
        "outputId": "c24ef462-9081-4b31-ddcd-f623507495b5"
      },
      "execution_count": 24,
      "outputs": [
        {
          "output_type": "stream",
          "name": "stdout",
          "text": [
            "✅ Arquivo salvo com sucesso!\n"
          ]
        }
      ]
    },
    {
      "cell_type": "code",
      "source": [
        "import torch\n",
        "from torch.utils.data import Dataset\n",
        "\n",
        "class PatchDataset(Dataset):\n",
        "    \"\"\"\n",
        "    Dataset PyTorch para blocos multicanais de entrada (2 canais: t1, t2)\n",
        "    e rótulo por pixel (valores inteiros reclassificados de 0 a 39).\n",
        "    \"\"\"\n",
        "    def __init__(self, X, y):\n",
        "        self.X = X\n",
        "        self.y = y\n",
        "\n",
        "    def __len__(self):\n",
        "        return len(self.X)\n",
        "\n",
        "    def __getitem__(self, idx):\n",
        "        x = torch.tensor(self.X[idx], dtype=torch.float32)\n",
        "        y = torch.tensor(self.y[idx], dtype=torch.long)\n",
        "        return x, y\n"
      ],
      "metadata": {
        "id": "xF9g5-LkmaEX"
      },
      "execution_count": 19,
      "outputs": []
    },
    {
      "cell_type": "code",
      "source": [
        "# Carrega o arquivo salvo\n",
        "data = np.load('/content/drive/MyDrive/DADOS/blocos_treinamento_unificado_A_B_C_D.npz')\n",
        "X_total = data['X']\n",
        "y_total = data['y']\n",
        "\n",
        "# Cria o dataset e o dataloader\n",
        "dataset = PatchDataset(X_total, y_total)\n",
        "dataloader = torch.utils.data.DataLoader(dataset, batch_size=2, shuffle=True)\n"
      ],
      "metadata": {
        "id": "YzU7lcAdmd-L"
      },
      "execution_count": 20,
      "outputs": []
    },
    {
      "cell_type": "markdown",
      "source": [
        "1. Definição da UNet3Saidas"
      ],
      "metadata": {
        "id": "X_skUVP0nIwZ"
      }
    },
    {
      "cell_type": "code",
      "source": [
        "import torch\n",
        "import torch.nn as nn\n",
        "\n",
        "class DoubleConv(nn.Module):\n",
        "    def __init__(self, in_channels, out_channels):\n",
        "        super().__init__()\n",
        "        self.block = nn.Sequential(\n",
        "            nn.Conv2d(in_channels, out_channels, kernel_size=3, padding=1),\n",
        "            nn.BatchNorm2d(out_channels),\n",
        "            nn.ReLU(inplace=True),\n",
        "            nn.Conv2d(out_channels, out_channels, kernel_size=3, padding=1),\n",
        "            nn.BatchNorm2d(out_channels),\n",
        "            nn.ReLU(inplace=True)\n",
        "        )\n",
        "\n",
        "    def forward(self, x):\n",
        "        return self.block(x)\n",
        "\n",
        "class UNet3Saidas(nn.Module):\n",
        "    def __init__(self, in_channels):\n",
        "        super().__init__()\n",
        "        self.enc1 = DoubleConv(in_channels, 64)\n",
        "        self.enc2 = DoubleConv(64, 128)\n",
        "        self.enc3 = DoubleConv(128, 256)\n",
        "        self.enc4 = DoubleConv(256, 512)\n",
        "        self.pool = nn.MaxPool2d(2)\n",
        "\n",
        "        self.bottleneck = DoubleConv(512, 1024)\n",
        "\n",
        "        self.upconv4 = nn.ConvTranspose2d(1024, 512, 2, stride=2)\n",
        "        self.dec4 = DoubleConv(1024, 512)\n",
        "        self.upconv3 = nn.ConvTranspose2d(512, 256, 2, stride=2)\n",
        "        self.dec3 = DoubleConv(512, 256)\n",
        "        self.upconv2 = nn.ConvTranspose2d(256, 128, 2, stride=2)\n",
        "        self.dec2 = DoubleConv(256, 128)\n",
        "        self.upconv1 = nn.ConvTranspose2d(128, 64, 2, stride=2)\n",
        "        self.dec1 = DoubleConv(128, 64)\n",
        "\n",
        "        # Três ramos de saída\n",
        "        self.out_estavel = nn.Conv2d(64, 2, kernel_size=1)  # classes 0–1\n",
        "        self.out_perda = nn.Conv2d(64, 4, kernel_size=1)    # classes 22–25\n",
        "        self.out_ganho = nn.Conv2d(64, 4, kernel_size=1)    # classes 36–39\n",
        "\n",
        "    def forward(self, x):\n",
        "        enc1 = self.enc1(x)\n",
        "        enc2 = self.enc2(self.pool(enc1))\n",
        "        enc3 = self.enc3(self.pool(enc2))\n",
        "        enc4 = self.enc4(self.pool(enc3))\n",
        "\n",
        "        bottleneck = self.bottleneck(self.pool(enc4))\n",
        "\n",
        "        dec4 = self.dec4(torch.cat([self.upconv4(bottleneck), enc4], dim=1))\n",
        "        dec3 = self.dec3(torch.cat([self.upconv3(dec4), enc3], dim=1))\n",
        "        dec2 = self.dec2(torch.cat([self.upconv2(dec3), enc2], dim=1))\n",
        "        dec1 = self.dec1(torch.cat([self.upconv1(dec2), enc1], dim=1))\n",
        "\n",
        "        return {\n",
        "            'estavel': self.out_estavel(dec1),\n",
        "            'perda': self.out_perda(dec1),\n",
        "            'ganho': self.out_ganho(dec1)\n",
        "        }\n"
      ],
      "metadata": {
        "id": "0aqDYVdbnFZ4"
      },
      "execution_count": 21,
      "outputs": []
    },
    {
      "cell_type": "markdown",
      "source": [
        " 2. Função de perda perda_multiramos()"
      ],
      "metadata": {
        "id": "LK6X_BjznMa4"
      }
    },
    {
      "cell_type": "code",
      "source": [
        "def perda_multiramos(saidas, y_true, classe_bruta, device):\n",
        "    ce = nn.CrossEntropyLoss()\n",
        "    total_loss = 0\n",
        "\n",
        "    mask_estavel = (classe_bruta == 0) | (classe_bruta == 1)\n",
        "    mask_perda = (classe_bruta == 2)\n",
        "    mask_ganho = (classe_bruta == 3)\n",
        "\n",
        "    if mask_estavel.any():\n",
        "        y_e = y_true[mask_estavel]\n",
        "        pred_e = saidas['estavel'].permute(0, 2, 3, 1)[mask_estavel]\n",
        "        total_loss += ce(pred_e, y_e)\n",
        "\n",
        "    if mask_perda.any():\n",
        "        y_p_full = y_true[mask_perda]\n",
        "        mask_valida = (y_p_full >= 22) & (y_p_full <= 25)\n",
        "        if mask_valida.any():\n",
        "            y_p = y_p_full[mask_valida] - 22\n",
        "            pred_p = saidas['perda'].permute(0, 2, 3, 1)[mask_perda][mask_valida]\n",
        "            total_loss += ce(pred_p, y_p)\n",
        "\n",
        "    if mask_ganho.any():\n",
        "        y_g_full = y_true[mask_ganho]\n",
        "        mask_valida = (y_g_full >= 36) & (y_g_full <= 39)\n",
        "        if mask_valida.any():\n",
        "            y_g = y_g_full[mask_valida] - 36\n",
        "            pred_g = saidas['ganho'].permute(0, 2, 3, 1)[mask_ganho][mask_valida]\n",
        "            total_loss += ce(pred_g, y_g)\n",
        "\n",
        "    return total_loss\n"
      ],
      "metadata": {
        "id": "C3RNAKwtnQJs"
      },
      "execution_count": 22,
      "outputs": []
    },
    {
      "cell_type": "markdown",
      "source": [
        "3. Loop de treino treinar_uma_epoca_multiramos()"
      ],
      "metadata": {
        "id": "IO1QctrXnSzg"
      }
    },
    {
      "cell_type": "code",
      "source": [
        "def treinar_uma_epoca_multiramos(model, dataloader, optimizer, device):\n",
        "    model.train()\n",
        "    total_loss = 0\n",
        "\n",
        "    for x_batch, y_true in dataloader:\n",
        "        x_batch = x_batch.to(device)\n",
        "        y_true = y_true.to(device)\n",
        "\n",
        "        t1 = x_batch[:, 0, :, :]\n",
        "        t2 = x_batch[:, 1, :, :]\n",
        "        classe_bruta = torch.zeros_like(y_true)\n",
        "\n",
        "        classe_bruta = torch.where((t1 == 1) & (t2 == 1), 0, classe_bruta)  # estabilidade vegetação\n",
        "        classe_bruta = torch.where((t1 == 0) & (t2 == 0), 1, classe_bruta)  # estabilidade vazio\n",
        "        classe_bruta = torch.where((t1 == 1) & (t2 == 0), 2, classe_bruta)  # perda\n",
        "        classe_bruta = torch.where((t1 == 0) & (t2 == 1), 3, classe_bruta)  # ganho\n",
        "\n",
        "        optimizer.zero_grad()\n",
        "        saidas = model(x_batch)\n",
        "        loss = perda_multiramos(saidas, y_true, classe_bruta, device)\n",
        "        loss.backward()\n",
        "        optimizer.step()\n",
        "        total_loss += loss.item()\n",
        "\n",
        "    return total_loss / len(dataloader)\n"
      ],
      "metadata": {
        "id": "a5i4hLEunWAK"
      },
      "execution_count": 23,
      "outputs": []
    },
    {
      "cell_type": "code",
      "source": [
        "model = UNet3Saidas(in_channels=2).to(device)\n",
        "optimizer = torch.optim.Adam(model.parameters(), lr=1e-4)\n"
      ],
      "metadata": {
        "id": "Qksm7-pEnbqD"
      },
      "execution_count": 24,
      "outputs": []
    },
    {
      "cell_type": "code",
      "source": [
        "for epoca in range(10):\n",
        "    loss = treinar_uma_epoca_multiramos(model, dataloader, optimizer, device)\n",
        "    print(f\"Época {epoca+1}: loss médio = {loss:.4f}\")\n",
        "# Salva após cada época\n",
        "    torch.save(model.state_dict(), f'/content/drive/MyDrive/DADOS/unet_treinado_ep{epoca+1}.pth')"
      ],
      "metadata": {
        "colab": {
          "base_uri": "https://localhost:8080/"
        },
        "id": "iymMXdEcneoH",
        "outputId": "00eeafcd-13f8-424d-e167-c35895609a4c"
      },
      "execution_count": 49,
      "outputs": [
        {
          "output_type": "stream",
          "name": "stdout",
          "text": [
            "Época 1: loss médio = 0.0018\n",
            "Época 2: loss médio = 0.0017\n",
            "Época 3: loss médio = 0.0017\n",
            "Época 4: loss médio = 0.0018\n",
            "Época 5: loss médio = 0.0022\n",
            "Época 6: loss médio = 0.0017\n",
            "Época 7: loss médio = 0.0103\n",
            "Época 8: loss médio = 0.1856\n",
            "Época 9: loss médio = 0.2338\n",
            "Época 10: loss médio = 0.2446\n"
          ]
        }
      ]
    },
    {
      "cell_type": "code",
      "source": [
        "torch.save(model.state_dict(), '/content/drive/MyDrive/DADOS/unet_treinado_FINAL_vAtoD.pth')\n"
      ],
      "metadata": {
        "id": "BCye8SMcuu5X"
      },
      "execution_count": 48,
      "outputs": []
    },
    {
      "cell_type": "markdown",
      "source": [
        "importar bibliotecas"
      ],
      "metadata": {
        "id": "r8Ow69VZrCZU"
      }
    },
    {
      "cell_type": "code",
      "source": [
        "from sklearn.metrics import classification_report, confusion_matrix\n",
        "import seaborn as sns\n",
        "import matplotlib.pyplot as plt\n"
      ],
      "metadata": {
        "id": "Rq5VrGLbrvIU"
      },
      "execution_count": 40,
      "outputs": []
    },
    {
      "cell_type": "markdown",
      "source": [
        " Função para gerar predições e métricas"
      ],
      "metadata": {
        "id": "7BZeG0zSvoLN"
      }
    },
    {
      "cell_type": "code",
      "source": [
        "def avaliar_modelo_multiramos(model, dataloader, device):\n",
        "    model.eval()\n",
        "    y_true_total = []\n",
        "    y_pred_total = []\n",
        "\n",
        "    with torch.no_grad():\n",
        "        for x_batch, y_batch in dataloader:\n",
        "            x_batch = x_batch.to(device)\n",
        "            y_batch = y_batch.to(device)\n",
        "\n",
        "            t1 = x_batch[:, 0, :, :]\n",
        "            t2 = x_batch[:, 1, :, :]\n",
        "            classe_bruta = torch.zeros_like(y_batch)\n",
        "\n",
        "            classe_bruta = torch.where((t1 == 1) & (t2 == 1), 0, classe_bruta)\n",
        "            classe_bruta = torch.where((t1 == 0) & (t2 == 0), 1, classe_bruta)\n",
        "            classe_bruta = torch.where((t1 == 1) & (t2 == 0), 2, classe_bruta)\n",
        "            classe_bruta = torch.where((t1 == 0) & (t2 == 1), 3, classe_bruta)\n",
        "\n",
        "            saidas = model(x_batch)\n",
        "\n",
        "            # Previsões por grupo\n",
        "            pred_e = torch.argmax(saidas['estavel'], dim=1)\n",
        "            pred_p = torch.argmax(saidas['perda'], dim=1) + 22\n",
        "            pred_g = torch.argmax(saidas['ganho'], dim=1) + 36\n",
        "\n",
        "            pred_final = torch.zeros_like(y_batch)\n",
        "            pred_final[classe_bruta == 0] = pred_e[classe_bruta == 0]\n",
        "            pred_final[classe_bruta == 1] = pred_e[classe_bruta == 1]\n",
        "            pred_final[classe_bruta == 2] = pred_p[classe_bruta == 2]\n",
        "            pred_final[classe_bruta == 3] = pred_g[classe_bruta == 3]\n",
        "\n",
        "            y_true_total.append(y_batch.cpu().flatten())\n",
        "            y_pred_total.append(pred_final.cpu().flatten())\n",
        "\n",
        "    # Junta tudo\n",
        "    y_true = torch.cat(y_true_total).numpy()\n",
        "    y_pred = torch.cat(y_pred_total).numpy()\n",
        "\n",
        "    # Avaliação\n",
        "    print(f\"Acurácia total por pixel: {np.mean(y_true == y_pred):.4f}\\n\")\n",
        "\n",
        "    # Relatório por classe\n",
        "    print(\"Relatório por classe (0 a 39):\")\n",
        "    print(classification_report(y_true, y_pred, labels=np.unique(y_true), zero_division=0))\n",
        "\n",
        "    # Matriz de confusão\n",
        "    cm = confusion_matrix(y_true, y_pred, labels=np.unique(y_true))\n",
        "    plt.figure(figsize=(10, 8))\n",
        "    sns.heatmap(cm, annot=True, fmt=\"d\", cmap=\"Blues\",\n",
        "                xticklabels=np.unique(y_true),\n",
        "                yticklabels=np.unique(y_true))\n",
        "    plt.xlabel(\"Classe predita\")\n",
        "    plt.ylabel(\"Classe real\")\n",
        "    plt.title(\"Matriz de Confusão\")\n",
        "    plt.tight_layout()\n",
        "    plt.show()\n"
      ],
      "metadata": {
        "id": "JMBxvovAr01V"
      },
      "execution_count": 41,
      "outputs": []
    },
    {
      "cell_type": "markdown",
      "source": [
        "Executar a avaliação"
      ],
      "metadata": {
        "id": "woHmrK_wr3ly"
      }
    },
    {
      "cell_type": "code",
      "source": [
        "avaliar_modelo_multiramos(model, dataloader, device)\n"
      ],
      "metadata": {
        "colab": {
          "base_uri": "https://localhost:8080/",
          "height": 1000
        },
        "id": "c8gaWPRkr7DF",
        "outputId": "98a8098a-caaa-4673-8d1c-47ce52910239"
      },
      "execution_count": 42,
      "outputs": [
        {
          "output_type": "stream",
          "name": "stdout",
          "text": [
            "Acurácia total por pixel: 0.9995\n",
            "\n",
            "Relatório por classe (0 a 39):\n",
            "              precision    recall  f1-score   support\n",
            "\n",
            "           0       1.00      1.00      1.00   8846217\n",
            "           1       1.00      1.00      1.00  25974790\n",
            "          22       1.00      1.00      1.00    231585\n",
            "          23       0.99      1.00      1.00   2566285\n",
            "          24       0.98      0.96      0.97     64538\n",
            "          25       1.00      0.98      0.99    756813\n",
            "          36       1.00      1.00      1.00    127375\n",
            "          37       1.00      1.00      1.00    237829\n",
            "          38       1.00      1.00      1.00     31175\n",
            "          39       1.00      1.00      1.00    484993\n",
            "\n",
            "    accuracy                           1.00  39321600\n",
            "   macro avg       1.00      0.99      0.99  39321600\n",
            "weighted avg       1.00      1.00      1.00  39321600\n",
            "\n"
          ]
        },
        {
          "output_type": "display_data",
          "data": {
            "text/plain": [
              "<Figure size 1000x800 with 2 Axes>"
            ],
            "image/png": "[encoded data removed]"
          },
          "metadata": {}
        }
      ]
    },
    {
      "cell_type": "markdown",
      "source": [],
      "metadata": {
        "id": "Y-e5UvlOr-Jh"
      }
    }
  ]
}